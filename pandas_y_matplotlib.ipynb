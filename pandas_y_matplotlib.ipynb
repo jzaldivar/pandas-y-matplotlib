{
 "cells": [
  {
   "cell_type": "markdown",
   "metadata": {},
   "source": [
    "# Lectura de archivos y gráficación de datos\n",
    "\n",
    "El archivo `BACHOCOB.MX.2019-21.csv` contiene datos de cotizaciones de una acción de la Bolsa Mexicana de Valores. \n",
    "\n",
    "Éstas se pueden leer abriendo el archivo con `open` y recuperando cada línea con `readline`.\n",
    "\n",
    "`open` lleva dos parámetros: el nombre del archivo a abrir (con todo y su ruta de acceso) y el _modo_ como se va a abrir. Hoy usaremos `'r'` para el modo, que significa abrir en modo lectura (_read_)."
   ]
  },
  {
   "cell_type": "code",
   "execution_count": null,
   "metadata": {},
   "outputs": [],
   "source": [
    "# Nombre el archivo\n",
    "filename = 'BACHOCOB.MX.2019-21.csv'\n",
    "# Abrir el archivo\n",
    "with open(filename, 'r') as f:\n",
    "    # Imprimir las primeras cinco líneas\n",
    "    for i in range(5):\n",
    "        print(f.readline())"
   ]
  },
  {
   "cell_type": "markdown",
   "metadata": {},
   "source": [
    "`readline` lee una línea del archivo (con todo y el carácter de fin de línea, ¿se fijaron en el espaciado extra del `print`?)\n",
    "\n",
    "El archivo es un archivo de texto (en formato CSV: _comma-separated values_) y la primera línea contiene el encabezado. Son siete columnas:\n",
    "\n",
    "- Date\n",
    "- Open\n",
    "- High\n",
    "- Low\n",
    "- Close\n",
    "- Adj Close\n",
    "- Volume\n",
    "\n",
    "Vamos a separar los datos:"
   ]
  },
  {
   "cell_type": "code",
   "execution_count": null,
   "metadata": {},
   "outputs": [],
   "source": [
    "lineas = []\n",
    "with open(filename, 'r') as f:\n",
    "    # Leer las primeras cinco líneas\n",
    "    for i in range(5):\n",
    "        li = f.readline().strip()          # Quitarle el carácter EOL\n",
    "        lineas.append(li)                  # Agregarlo a la lista\n",
    "lineas"
   ]
  },
  {
   "cell_type": "markdown",
   "metadata": {},
   "source": [
    "Hasta aquí, tenemos una lista (`lineas`) con cada una de las líneas del archivo, incluyendo el encabezado.\n",
    "\n",
    "Vamos a separarlo en siete listas homogéneas (cada lista contiene el mismo tipo de información), una para cada columna."
   ]
  },
  {
   "cell_type": "code",
   "execution_count": null,
   "metadata": {},
   "outputs": [],
   "source": [
    "fecha = []\n",
    "apertura = []\n",
    "alto = []\n",
    "bajo = []\n",
    "cierre = []\n",
    "cierre_aj = []\n",
    "volumen = []\n",
    "\n",
    "for li in lineas[1:]:                  # Sin encabezados\n",
    "    li = li.split(',')                 # Separar por las comas\n",
    "    # Desempacar\n",
    "    fecha.append(li[0])\n",
    "    apertura.append(float(li[1]))\n",
    "    alto.append(float(li[2]))\n",
    "    bajo.append(float(li[3]))\n",
    "    cierre.append(float(li[4]))\n",
    "    cierre_aj.append(float(li[5]))\n",
    "    volumen.append(float(li[6]))\n",
    "    \n",
    "# Imprimir los datos\n",
    "print(\"Fecha       Apertura      Alto      Bajo    Cierre    C. Aj.   Volumen\")\n",
    "for i in range(len(fecha)):\n",
    "    print(f'{fecha[i]:10}'\n",
    "          f'{apertura[i]:10.4f}'\n",
    "          f'{alto[i]:10.4f}'\n",
    "          f'{bajo[i]:10.4f}'\n",
    "          f'{cierre[i]:10.4f}'\n",
    "          f'{cierre_aj[i]:10.4f}'\n",
    "          f'{volumen[i]:10,.0f}')"
   ]
  },
  {
   "cell_type": "markdown",
   "metadata": {},
   "source": [
    "Hicimos siete listas homogéneas. Pudimos haber hecho una lista de listas u otra estructura de Python, como un diccionario, etc.\n",
    "\n",
    "Esta sería una forma de trabajar con un archivo CSV utilizando únicamente la funcionalidad nativa de Python que hemos estudiado. \n",
    "\n",
    "## Uso de `pandas`\n",
    "\n",
    "Sin embargo, no tenemos por qué limitarnos a dicha funcionalidad nativa; existen una infinidad de módulos de terceros que proporcionan funcionalidad adicional. \n",
    "\n",
    "A manera de ejemplo, vamos a utilizar la popular biblioteca `pandas`, que incluye, entre muchas otras cosas, la funcionalidad de leer archivos CSV."
   ]
  },
  {
   "cell_type": "code",
   "execution_count": null,
   "metadata": {},
   "outputs": [],
   "source": [
    "import pandas as pd\n",
    "import numpy as np\n",
    "import matplotlib.pyplot as plt\n",
    "\n",
    "cotizaciones = pd.read_csv(filename)\n",
    "cotizaciones.head()"
   ]
  },
  {
   "cell_type": "markdown",
   "metadata": {},
   "source": [
    "Más bonito y más fácil, ¿no?\n",
    "\n",
    "La estructura que regresa la función `read_csv` es un `DataFrame`, que es la estructura básica de `pandas`. Está compuesta por series (tipo `Series`) de datos organizadas en columnas.\n",
    "\n",
    "La columna `Date` es tipo `str`. La vamos a convertir a tipo fecha (`datetime`) para su mejor interpretación a la hora de graficar."
   ]
  },
  {
   "cell_type": "code",
   "execution_count": null,
   "metadata": {},
   "outputs": [],
   "source": [
    "cotizaciones.Date = pd.to_datetime(cotizaciones.Date)\n",
    "cotizaciones.head()"
   ]
  },
  {
   "cell_type": "markdown",
   "metadata": {},
   "source": [
    "## Graficar las cotizaciones\n",
    "\n",
    "Las cotizaciones al cierre se pueden graficar de manera sencilla utilizando la biblioteca `matplotlib`."
   ]
  },
  {
   "cell_type": "code",
   "execution_count": null,
   "metadata": {
    "scrolled": true
   },
   "outputs": [],
   "source": [
    "# Inicializar los elementos de la gráfica\n",
    "fig, ax = plt.subplots()\n",
    "simbolo = 'BACHOCOB.MX'\n",
    "fecha = cotizaciones.Date             # Dos formas equivalentes de\n",
    "cierre = cotizaciones['Close']        # referirse a las columnas\n",
    "ax.plot(fecha, cierre)\n",
    "ax.set(title=simbolo)\n",
    "plt.show()"
   ]
  },
  {
   "cell_type": "markdown",
   "metadata": {},
   "source": [
    "## Cálculo de los rendimientos logarítmicos\n",
    "\n",
    "Las series de `pandas`, por estar basadas en vectores de `numpy`, permiten realizar operaciones con todos sus elementos al mismo tiempo, sin necesidad de utilizar ciclos para hacer la operación con cada uno de ellos. Esto hace posible el cálculo de los rendimientos logarítmicos de manera muy sencilla."
   ]
  },
  {
   "cell_type": "code",
   "execution_count": null,
   "metadata": {},
   "outputs": [],
   "source": [
    "rend = np.log(cierre / cierre.shift())\n",
    "rend.head()"
   ]
  },
  {
   "cell_type": "markdown",
   "metadata": {},
   "source": [
    "El cálculo de los rendimientos logarítmicos se lleva a cabo de acuerdo a la fórmula:\n",
    "\n",
    "$$R = \\ln(\\frac{V_f}{V_i})$$\n",
    "\n",
    "donde $V_i$ es el valor inicial y $V_f$ es el valor final.\n",
    "\n",
    "En la fórmula de Python, la división es la cotización al cierre del día entre la cotización al cierre del día anterior, como las columnas de cotización están ordenadas por fecha ascendente, el cierre del día anterior se encuentra en el renglón de arriba, por eso se usa `shift` para alinearlo y poder hacer la división.\n",
    "\n",
    "El primer renglón no tiene cotización anterior, por eso el cálculo regresa `NaN` (_not a number_).\n",
    "\n",
    "`subplots` nos permite especificar varias gráficas en la misma figura indicando el número de renglones y columnas. Regresa un objeto `Axes` para cada gráfica de la cuadrícula."
   ]
  },
  {
   "cell_type": "code",
   "execution_count": null,
   "metadata": {},
   "outputs": [],
   "source": [
    "fig, (ax1, ax2) = plt.subplots(nrows=2, ncols=1, sharex=True)\n",
    "ax1.plot(fecha, cierre, label='Cierre')\n",
    "ax1.set(title=simbolo)\n",
    "ax1.legend()\n",
    "ax2.plot(fecha, rend, label='Rendimientos')\n",
    "ax2.legend()\n",
    "plt.show()"
   ]
  },
  {
   "cell_type": "markdown",
   "metadata": {},
   "source": [
    "## Calcular la volatilidad\n",
    "\n",
    "Añadiremos ahora la gráfica de la volatilidad. Primero, calculamos la desviación estándar móvil sobre el último año (252 días)."
   ]
  },
  {
   "cell_type": "code",
   "execution_count": null,
   "metadata": {},
   "outputs": [],
   "source": [
    "volatilidad = cierre.rolling(252).std()"
   ]
  },
  {
   "cell_type": "markdown",
   "metadata": {},
   "source": [
    "Utilizamos de nuevo `subplots` para apilar las tres gráficas en la misma figura."
   ]
  },
  {
   "cell_type": "code",
   "execution_count": null,
   "metadata": {},
   "outputs": [],
   "source": [
    "fig, (ax1, ax2, ax3) = plt.subplots(nrows=3, ncols=1, sharex=True)\n",
    "ax1.plot(fecha, cierre, label='Cierre')\n",
    "ax1.set(title=simbolo)\n",
    "ax1.legend()\n",
    "ax2.plot(fecha, rend, label='Rendimientos')\n",
    "ax2.legend()\n",
    "ax3.plot(fecha, volatilidad, label='Volatilidad (252 días)')\n",
    "ax3.legend()\n",
    "fig.autofmt_xdate()\n",
    "plt.show()"
   ]
  },
  {
   "cell_type": "markdown",
   "metadata": {},
   "source": [
    "## Graficar medias móviles y volumen de operación\n",
    "\n",
    "Finalmente, se generará dos gráficas. La primera mostrará las cotizaciones al cierre junto con las medias móviles a 42 y 252 días; la segunda, el volumen de operación. Se desea que la primera gráfica ocupe una mayor proporción del área de la ventana que la segunda.\n",
    "\n",
    "Primero se calculan las medias móviles de manera similar a como se calcularon las volatilidades más arriba."
   ]
  },
  {
   "cell_type": "code",
   "execution_count": null,
   "metadata": {},
   "outputs": [],
   "source": [
    "media42d = cierre.rolling(42).mean()\n",
    "media252d = cierre.rolling(252).mean()"
   ]
  },
  {
   "cell_type": "markdown",
   "metadata": {},
   "source": [
    "Y se grafican los datos."
   ]
  },
  {
   "cell_type": "code",
   "execution_count": null,
   "metadata": {},
   "outputs": [],
   "source": [
    "fig, (ax1, ax2) = plt.subplots(nrows=2, ncols=1, sharex=True, gridspec_kw={'height_ratios': [3, 1]})\n",
    "ax1.plot(fecha, cierre, label='Cierre')\n",
    "ax1.plot(fecha, media42d, label='Media móvil (42 días)')\n",
    "ax1.plot(fecha, media252d, label='Media móvil (252 días)')\n",
    "ax1.set(title=simbolo)\n",
    "ax1.legend()\n",
    "ax2.bar(fecha, cotizaciones.Volume, label='Volumen')\n",
    "ax.legend()\n",
    "fig.autofmt_xdate()\n",
    "plt.show()"
   ]
  },
  {
   "cell_type": "markdown",
   "metadata": {},
   "source": [
    "![pandas](https://pandas.pydata.org/static/img/pandas.svg \"pandas\")\n",
    "\n",
    "Documentación de `pandas`: https://pandas.pydata.org/\n",
    "\n",
    "![numpy](https://numpy.org/neps/_static/numpylogo.svg \"numpy\")\n",
    "\n",
    "Documentación de `numpy`: https://numpy.org/\n",
    "\n",
    "![matplotlib](https://matplotlib.org/stable/_static/logo2_compressed.svg \"matplotlib\")\n",
    "\n",
    "Documentación de `matplotlib`: https://matplotlib.org/ \n",
    "\n",
    "Galería de ejemplos de `matplotlib`: https://matplotlib.org/stable/gallery/index.html"
   ]
  }
 ],
 "metadata": {
  "interpreter": {
   "hash": "1e5a504a27c91785cc20fa5894256130d97c1764e1afe7fb121f7c2e7578e171"
  },
  "kernelspec": {
   "display_name": "Python 3.9.1 64-bit",
   "language": "python",
   "name": "python3"
  },
  "language_info": {
   "codemirror_mode": {
    "name": "ipython",
    "version": 3
   },
   "file_extension": ".py",
   "mimetype": "text/x-python",
   "name": "python",
   "nbconvert_exporter": "python",
   "pygments_lexer": "ipython3",
   "version": "3.9.1"
  },
  "metadata": {
   "interpreter": {
    "hash": "1e5a504a27c91785cc20fa5894256130d97c1764e1afe7fb121f7c2e7578e171"
   }
  }
 },
 "nbformat": 4,
 "nbformat_minor": 2
}
